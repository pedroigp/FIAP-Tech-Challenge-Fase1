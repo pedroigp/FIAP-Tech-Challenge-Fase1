{
  "nbformat": 4,
  "nbformat_minor": 0,
  "metadata": {
    "colab": {
      "provenance": [],
      "authorship_tag": "ABX9TyNE22hv5B+v1yHO4K7pCTcx",
      "include_colab_link": true
    },
    "kernelspec": {
      "name": "python3",
      "display_name": "Python 3"
    },
    "language_info": {
      "name": "python"
    }
  },
  "cells": [
    {
      "cell_type": "markdown",
      "metadata": {
        "id": "view-in-github",
        "colab_type": "text"
      },
      "source": [
        "<a href=\"https://colab.research.google.com/github/pedroigp/FIAP-Tech-Challenge-Fase1/blob/main/Tech_Challenge_1.ipynb\" target=\"_parent\"><img src=\"https://colab.research.google.com/assets/colab-badge.svg\" alt=\"Open In Colab\"/></a>"
      ]
    },
    {
      "cell_type": "markdown",
      "source": [
        "# O problema\n",
        "Você é um profissional encarregado de desenvolver um modelo preditivo de regressão para prever o valor dos custos médicos individuais cobrados pelo\n",
        "seguro de saúde.\n",
        "\n",
        "# Tarefas\n",
        "**Exploração de dados:**\n",
        "* Carregue a base de dados e explore suas características.\n",
        "* Analise estatísticas descritivas e visualize distribuições relevantes.\n",
        "\n",
        "**Pré-processamento de dados:**\n",
        "* Realize a limpeza dos dados, tratando valores ausentes (se\n",
        "necessário).\n",
        "* Converta variáveis categóricas em formatos adequados para\n",
        "modelagem.\n",
        "\n",
        "**Modelagem:**\n",
        "* Crie um modelo preditivo de regressão utilizando uma técnica à sua\n",
        "escolha (por exemplo, Regressão Linear, Árvores de Decisão etc).\n",
        "* Divida o conjunto de dados em conjuntos de treinamento e teste.\n",
        "\n",
        "**Treinamento e avaliação do modelo:**\n",
        "* Treine o modelo com o conjunto de treinamento.\n",
        "\n",
        "**Validação estatística:**\n",
        "* Utilize métricas estatísticas para validar a eficácia do modelo (p-value,\n",
        "intervalos de confiança).\n",
        "\n",
        "# O que avaliaremos:\n",
        "* Apresente resultados visuais, como gráficos de previsões vs. valores reais.\n",
        "* Elabore um relatório que inclua uma análise dos resultados, insights obtidos e validação estatística.\n",
        "\n",
        "**Observações:**\n",
        "Esperamos que o modelo seja capaz de fazer previsões confiáveis dos custos médicos individuais com base nas características fornecidas."
      ],
      "metadata": {
        "id": "zf-DsiOznQ4z"
      }
    },
    {
      "cell_type": "markdown",
      "source": [
        "Importando os Dados"
      ],
      "metadata": {
        "id": "mNKHXIY0nCRZ"
      }
    },
    {
      "cell_type": "code",
      "execution_count": 1,
      "metadata": {
        "id": "UD2Oo3Pemx3-"
      },
      "outputs": [],
      "source": [
        "import pandas as pd\n",
        "dataset = pd.read_csv(\"insurance.csv\")"
      ]
    },
    {
      "cell_type": "code",
      "source": [],
      "metadata": {
        "id": "Y12yVFXMnIVu"
      },
      "execution_count": null,
      "outputs": []
    }
  ]
}